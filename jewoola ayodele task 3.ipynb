{
 "cells": [
  {
   "cell_type": "markdown",
   "id": "f720541c-98f3-4f2d-8a89-fa9bbc8e1e21",
   "metadata": {},
   "source": [
    "## Task 3: Pizza Sales Analysis"
   ]
  },
  {
   "cell_type": "code",
   "execution_count": 198,
   "id": "bd855bb5-1706-4453-9a91-904ca1d25f88",
   "metadata": {},
   "outputs": [],
   "source": [
    "#importing necessary tools\n",
    "import pandas as pd\n",
    "\n",
    "import matplotlib.pyplot as plt\n",
    "\n",
    "import seaborn as sns\n",
    "\n",
    "sns.set() #default style for seaborn\n",
    "\n",
    "import warnings # to import warning\n",
    "warnings.filterwarnings(\"ignore\")"
   ]
  },
  {
   "cell_type": "markdown",
   "id": "2e03ddeb-c4ce-4bf5-a942-ca98464c0931",
   "metadata": {},
   "source": [
    "## To Import each file"
   ]
  },
  {
   "cell_type": "code",
   "execution_count": 168,
   "id": "c4b48d85-29fe-45b1-b080-1b7b875009fc",
   "metadata": {},
   "outputs": [
    {
     "data": {
      "text/html": [
       "<div>\n",
       "<style scoped>\n",
       "    .dataframe tbody tr th:only-of-type {\n",
       "        vertical-align: middle;\n",
       "    }\n",
       "\n",
       "    .dataframe tbody tr th {\n",
       "        vertical-align: top;\n",
       "    }\n",
       "\n",
       "    .dataframe thead th {\n",
       "        text-align: right;\n",
       "    }\n",
       "</style>\n",
       "<table border=\"1\" class=\"dataframe\">\n",
       "  <thead>\n",
       "    <tr style=\"text-align: right;\">\n",
       "      <th></th>\n",
       "      <th>pizza_id</th>\n",
       "      <th>pizza_type_id</th>\n",
       "      <th>size</th>\n",
       "      <th>price</th>\n",
       "    </tr>\n",
       "  </thead>\n",
       "  <tbody>\n",
       "    <tr>\n",
       "      <th>0</th>\n",
       "      <td>bbq_ckn_s</td>\n",
       "      <td>bbq_ckn</td>\n",
       "      <td>S</td>\n",
       "      <td>12.75</td>\n",
       "    </tr>\n",
       "    <tr>\n",
       "      <th>1</th>\n",
       "      <td>bbq_ckn_m</td>\n",
       "      <td>bbq_ckn</td>\n",
       "      <td>M</td>\n",
       "      <td>16.75</td>\n",
       "    </tr>\n",
       "    <tr>\n",
       "      <th>2</th>\n",
       "      <td>bbq_ckn_l</td>\n",
       "      <td>bbq_ckn</td>\n",
       "      <td>L</td>\n",
       "      <td>20.75</td>\n",
       "    </tr>\n",
       "    <tr>\n",
       "      <th>3</th>\n",
       "      <td>cali_ckn_s</td>\n",
       "      <td>cali_ckn</td>\n",
       "      <td>S</td>\n",
       "      <td>12.75</td>\n",
       "    </tr>\n",
       "    <tr>\n",
       "      <th>4</th>\n",
       "      <td>cali_ckn_m</td>\n",
       "      <td>cali_ckn</td>\n",
       "      <td>M</td>\n",
       "      <td>16.75</td>\n",
       "    </tr>\n",
       "  </tbody>\n",
       "</table>\n",
       "</div>"
      ],
      "text/plain": [
       "     pizza_id pizza_type_id size  price\n",
       "0   bbq_ckn_s       bbq_ckn    S  12.75\n",
       "1   bbq_ckn_m       bbq_ckn    M  16.75\n",
       "2   bbq_ckn_l       bbq_ckn    L  20.75\n",
       "3  cali_ckn_s      cali_ckn    S  12.75\n",
       "4  cali_ckn_m      cali_ckn    M  16.75"
      ]
     },
     "execution_count": 168,
     "metadata": {},
     "output_type": "execute_result"
    }
   ],
   "source": [
    "pizzas = pd.read_csv(\"pizzas.csv\")\n",
    "\n",
    "pizzas.head()"
   ]
  },
  {
   "cell_type": "code",
   "execution_count": 170,
   "id": "64af70d6-ae52-40d2-a716-ad2698aa2a4c",
   "metadata": {},
   "outputs": [
    {
     "data": {
      "text/html": [
       "<div>\n",
       "<style scoped>\n",
       "    .dataframe tbody tr th:only-of-type {\n",
       "        vertical-align: middle;\n",
       "    }\n",
       "\n",
       "    .dataframe tbody tr th {\n",
       "        vertical-align: top;\n",
       "    }\n",
       "\n",
       "    .dataframe thead th {\n",
       "        text-align: right;\n",
       "    }\n",
       "</style>\n",
       "<table border=\"1\" class=\"dataframe\">\n",
       "  <thead>\n",
       "    <tr style=\"text-align: right;\">\n",
       "      <th></th>\n",
       "      <th>order_id</th>\n",
       "      <th>date</th>\n",
       "      <th>time</th>\n",
       "    </tr>\n",
       "  </thead>\n",
       "  <tbody>\n",
       "    <tr>\n",
       "      <th>0</th>\n",
       "      <td>1</td>\n",
       "      <td>2015-01-01</td>\n",
       "      <td>11:38:36</td>\n",
       "    </tr>\n",
       "    <tr>\n",
       "      <th>1</th>\n",
       "      <td>2</td>\n",
       "      <td>2015-01-01</td>\n",
       "      <td>11:57:40</td>\n",
       "    </tr>\n",
       "    <tr>\n",
       "      <th>2</th>\n",
       "      <td>3</td>\n",
       "      <td>2015-01-01</td>\n",
       "      <td>12:12:28</td>\n",
       "    </tr>\n",
       "    <tr>\n",
       "      <th>3</th>\n",
       "      <td>4</td>\n",
       "      <td>2015-01-01</td>\n",
       "      <td>12:16:31</td>\n",
       "    </tr>\n",
       "    <tr>\n",
       "      <th>4</th>\n",
       "      <td>5</td>\n",
       "      <td>2015-01-01</td>\n",
       "      <td>12:21:30</td>\n",
       "    </tr>\n",
       "  </tbody>\n",
       "</table>\n",
       "</div>"
      ],
      "text/plain": [
       "   order_id        date      time\n",
       "0         1  2015-01-01  11:38:36\n",
       "1         2  2015-01-01  11:57:40\n",
       "2         3  2015-01-01  12:12:28\n",
       "3         4  2015-01-01  12:16:31\n",
       "4         5  2015-01-01  12:21:30"
      ]
     },
     "execution_count": 170,
     "metadata": {},
     "output_type": "execute_result"
    }
   ],
   "source": [
    "orders = pd.read_csv(\"orders.csv\")\n",
    "\n",
    "pizzas.head()"
   ]
  },
  {
   "cell_type": "code",
   "execution_count": 172,
   "id": "bbaa6fb4-bc70-4fc8-b521-9f08c8a0d2c9",
   "metadata": {},
   "outputs": [
    {
     "data": {
      "text/html": [
       "<div>\n",
       "<style scoped>\n",
       "    .dataframe tbody tr th:only-of-type {\n",
       "        vertical-align: middle;\n",
       "    }\n",
       "\n",
       "    .dataframe tbody tr th {\n",
       "        vertical-align: top;\n",
       "    }\n",
       "\n",
       "    .dataframe thead th {\n",
       "        text-align: right;\n",
       "    }\n",
       "</style>\n",
       "<table border=\"1\" class=\"dataframe\">\n",
       "  <thead>\n",
       "    <tr style=\"text-align: right;\">\n",
       "      <th></th>\n",
       "      <th>order_details_id</th>\n",
       "      <th>order_id</th>\n",
       "      <th>pizza_id</th>\n",
       "      <th>quantity</th>\n",
       "    </tr>\n",
       "  </thead>\n",
       "  <tbody>\n",
       "    <tr>\n",
       "      <th>0</th>\n",
       "      <td>1</td>\n",
       "      <td>1</td>\n",
       "      <td>hawaiian_m</td>\n",
       "      <td>1</td>\n",
       "    </tr>\n",
       "    <tr>\n",
       "      <th>1</th>\n",
       "      <td>2</td>\n",
       "      <td>2</td>\n",
       "      <td>classic_dlx_m</td>\n",
       "      <td>1</td>\n",
       "    </tr>\n",
       "    <tr>\n",
       "      <th>2</th>\n",
       "      <td>3</td>\n",
       "      <td>2</td>\n",
       "      <td>five_cheese_l</td>\n",
       "      <td>1</td>\n",
       "    </tr>\n",
       "    <tr>\n",
       "      <th>3</th>\n",
       "      <td>4</td>\n",
       "      <td>2</td>\n",
       "      <td>ital_supr_l</td>\n",
       "      <td>1</td>\n",
       "    </tr>\n",
       "    <tr>\n",
       "      <th>4</th>\n",
       "      <td>5</td>\n",
       "      <td>2</td>\n",
       "      <td>mexicana_m</td>\n",
       "      <td>1</td>\n",
       "    </tr>\n",
       "  </tbody>\n",
       "</table>\n",
       "</div>"
      ],
      "text/plain": [
       "   order_details_id  order_id       pizza_id  quantity\n",
       "0                 1         1     hawaiian_m         1\n",
       "1                 2         2  classic_dlx_m         1\n",
       "2                 3         2  five_cheese_l         1\n",
       "3                 4         2    ital_supr_l         1\n",
       "4                 5         2     mexicana_m         1"
      ]
     },
     "execution_count": 172,
     "metadata": {},
     "output_type": "execute_result"
    }
   ],
   "source": [
    "order_details = pd.read_csv(\"order_details.csv\")\n",
    "\n",
    "order_details.head()"
   ]
  },
  {
   "cell_type": "code",
   "execution_count": 174,
   "id": "b8417f61-d45c-42ec-90cc-66257ba29cab",
   "metadata": {},
   "outputs": [
    {
     "data": {
      "text/html": [
       "<div>\n",
       "<style scoped>\n",
       "    .dataframe tbody tr th:only-of-type {\n",
       "        vertical-align: middle;\n",
       "    }\n",
       "\n",
       "    .dataframe tbody tr th {\n",
       "        vertical-align: top;\n",
       "    }\n",
       "\n",
       "    .dataframe thead th {\n",
       "        text-align: right;\n",
       "    }\n",
       "</style>\n",
       "<table border=\"1\" class=\"dataframe\">\n",
       "  <thead>\n",
       "    <tr style=\"text-align: right;\">\n",
       "      <th></th>\n",
       "      <th>pizza_type_id</th>\n",
       "      <th>name</th>\n",
       "      <th>category</th>\n",
       "      <th>ingredients</th>\n",
       "    </tr>\n",
       "  </thead>\n",
       "  <tbody>\n",
       "    <tr>\n",
       "      <th>0</th>\n",
       "      <td>bbq_ckn</td>\n",
       "      <td>The Barbecue Chicken Pizza</td>\n",
       "      <td>Chicken</td>\n",
       "      <td>Barbecued Chicken, Red Peppers, Green Peppers,...</td>\n",
       "    </tr>\n",
       "    <tr>\n",
       "      <th>1</th>\n",
       "      <td>cali_ckn</td>\n",
       "      <td>The California Chicken Pizza</td>\n",
       "      <td>Chicken</td>\n",
       "      <td>Chicken, Artichoke, Spinach, Garlic, Jalapeno ...</td>\n",
       "    </tr>\n",
       "    <tr>\n",
       "      <th>2</th>\n",
       "      <td>ckn_alfredo</td>\n",
       "      <td>The Chicken Alfredo Pizza</td>\n",
       "      <td>Chicken</td>\n",
       "      <td>Chicken, Red Onions, Red Peppers, Mushrooms, A...</td>\n",
       "    </tr>\n",
       "    <tr>\n",
       "      <th>3</th>\n",
       "      <td>ckn_pesto</td>\n",
       "      <td>The Chicken Pesto Pizza</td>\n",
       "      <td>Chicken</td>\n",
       "      <td>Chicken, Tomatoes, Red Peppers, Spinach, Garli...</td>\n",
       "    </tr>\n",
       "    <tr>\n",
       "      <th>4</th>\n",
       "      <td>southw_ckn</td>\n",
       "      <td>The Southwest Chicken Pizza</td>\n",
       "      <td>Chicken</td>\n",
       "      <td>Chicken, Tomatoes, Red Peppers, Red Onions, Ja...</td>\n",
       "    </tr>\n",
       "  </tbody>\n",
       "</table>\n",
       "</div>"
      ],
      "text/plain": [
       "  pizza_type_id                          name category  \\\n",
       "0       bbq_ckn    The Barbecue Chicken Pizza  Chicken   \n",
       "1      cali_ckn  The California Chicken Pizza  Chicken   \n",
       "2   ckn_alfredo     The Chicken Alfredo Pizza  Chicken   \n",
       "3     ckn_pesto       The Chicken Pesto Pizza  Chicken   \n",
       "4    southw_ckn   The Southwest Chicken Pizza  Chicken   \n",
       "\n",
       "                                         ingredients  \n",
       "0  Barbecued Chicken, Red Peppers, Green Peppers,...  \n",
       "1  Chicken, Artichoke, Spinach, Garlic, Jalapeno ...  \n",
       "2  Chicken, Red Onions, Red Peppers, Mushrooms, A...  \n",
       "3  Chicken, Tomatoes, Red Peppers, Spinach, Garli...  \n",
       "4  Chicken, Tomatoes, Red Peppers, Red Onions, Ja...  "
      ]
     },
     "execution_count": 174,
     "metadata": {},
     "output_type": "execute_result"
    }
   ],
   "source": [
    "pizza_types = pd.read_csv(\"pizza_types.csv\", encoding='latin1')\n",
    "\n",
    "pizza_types.head()"
   ]
  },
  {
   "cell_type": "markdown",
   "id": "3f1fd8cb-2621-4647-987f-195dfac8bf37",
   "metadata": {},
   "source": [
    "## Merging all the files"
   ]
  },
  {
   "cell_type": "code",
   "execution_count": 178,
   "id": "d8e5b4a0-e3b6-4a19-bb03-fd312b8b5ba0",
   "metadata": {},
   "outputs": [
    {
     "data": {
      "text/html": [
       "<div>\n",
       "<style scoped>\n",
       "    .dataframe tbody tr th:only-of-type {\n",
       "        vertical-align: middle;\n",
       "    }\n",
       "\n",
       "    .dataframe tbody tr th {\n",
       "        vertical-align: top;\n",
       "    }\n",
       "\n",
       "    .dataframe thead th {\n",
       "        text-align: right;\n",
       "    }\n",
       "</style>\n",
       "<table border=\"1\" class=\"dataframe\">\n",
       "  <thead>\n",
       "    <tr style=\"text-align: right;\">\n",
       "      <th></th>\n",
       "      <th>order_details_id</th>\n",
       "      <th>order_id</th>\n",
       "      <th>pizza_id</th>\n",
       "      <th>quantity</th>\n",
       "      <th>pizza_type_id</th>\n",
       "      <th>size</th>\n",
       "      <th>price</th>\n",
       "      <th>date</th>\n",
       "      <th>time</th>\n",
       "      <th>name</th>\n",
       "      <th>category</th>\n",
       "      <th>ingredients</th>\n",
       "    </tr>\n",
       "  </thead>\n",
       "  <tbody>\n",
       "    <tr>\n",
       "      <th>0</th>\n",
       "      <td>1</td>\n",
       "      <td>1</td>\n",
       "      <td>hawaiian_m</td>\n",
       "      <td>1</td>\n",
       "      <td>hawaiian</td>\n",
       "      <td>M</td>\n",
       "      <td>13.25</td>\n",
       "      <td>2015-01-01</td>\n",
       "      <td>11:38:36</td>\n",
       "      <td>The Hawaiian Pizza</td>\n",
       "      <td>Classic</td>\n",
       "      <td>Sliced Ham, Pineapple, Mozzarella Cheese</td>\n",
       "    </tr>\n",
       "    <tr>\n",
       "      <th>1</th>\n",
       "      <td>2</td>\n",
       "      <td>2</td>\n",
       "      <td>classic_dlx_m</td>\n",
       "      <td>1</td>\n",
       "      <td>classic_dlx</td>\n",
       "      <td>M</td>\n",
       "      <td>16.00</td>\n",
       "      <td>2015-01-01</td>\n",
       "      <td>11:57:40</td>\n",
       "      <td>The Classic Deluxe Pizza</td>\n",
       "      <td>Classic</td>\n",
       "      <td>Pepperoni, Mushrooms, Red Onions, Red Peppers,...</td>\n",
       "    </tr>\n",
       "    <tr>\n",
       "      <th>2</th>\n",
       "      <td>3</td>\n",
       "      <td>2</td>\n",
       "      <td>five_cheese_l</td>\n",
       "      <td>1</td>\n",
       "      <td>five_cheese</td>\n",
       "      <td>L</td>\n",
       "      <td>18.50</td>\n",
       "      <td>2015-01-01</td>\n",
       "      <td>11:57:40</td>\n",
       "      <td>The Five Cheese Pizza</td>\n",
       "      <td>Veggie</td>\n",
       "      <td>Mozzarella Cheese, Provolone Cheese, Smoked Go...</td>\n",
       "    </tr>\n",
       "    <tr>\n",
       "      <th>3</th>\n",
       "      <td>4</td>\n",
       "      <td>2</td>\n",
       "      <td>ital_supr_l</td>\n",
       "      <td>1</td>\n",
       "      <td>ital_supr</td>\n",
       "      <td>L</td>\n",
       "      <td>20.75</td>\n",
       "      <td>2015-01-01</td>\n",
       "      <td>11:57:40</td>\n",
       "      <td>The Italian Supreme Pizza</td>\n",
       "      <td>Supreme</td>\n",
       "      <td>Calabrese Salami, Capocollo, Tomatoes, Red Oni...</td>\n",
       "    </tr>\n",
       "    <tr>\n",
       "      <th>4</th>\n",
       "      <td>5</td>\n",
       "      <td>2</td>\n",
       "      <td>mexicana_m</td>\n",
       "      <td>1</td>\n",
       "      <td>mexicana</td>\n",
       "      <td>M</td>\n",
       "      <td>16.00</td>\n",
       "      <td>2015-01-01</td>\n",
       "      <td>11:57:40</td>\n",
       "      <td>The Mexicana Pizza</td>\n",
       "      <td>Veggie</td>\n",
       "      <td>Tomatoes, Red Peppers, Jalapeno Peppers, Red O...</td>\n",
       "    </tr>\n",
       "  </tbody>\n",
       "</table>\n",
       "</div>"
      ],
      "text/plain": [
       "   order_details_id  order_id       pizza_id  quantity pizza_type_id size  \\\n",
       "0                 1         1     hawaiian_m         1      hawaiian    M   \n",
       "1                 2         2  classic_dlx_m         1   classic_dlx    M   \n",
       "2                 3         2  five_cheese_l         1   five_cheese    L   \n",
       "3                 4         2    ital_supr_l         1     ital_supr    L   \n",
       "4                 5         2     mexicana_m         1      mexicana    M   \n",
       "\n",
       "   price        date      time                       name category  \\\n",
       "0  13.25  2015-01-01  11:38:36         The Hawaiian Pizza  Classic   \n",
       "1  16.00  2015-01-01  11:57:40   The Classic Deluxe Pizza  Classic   \n",
       "2  18.50  2015-01-01  11:57:40      The Five Cheese Pizza   Veggie   \n",
       "3  20.75  2015-01-01  11:57:40  The Italian Supreme Pizza  Supreme   \n",
       "4  16.00  2015-01-01  11:57:40         The Mexicana Pizza   Veggie   \n",
       "\n",
       "                                         ingredients  \n",
       "0           Sliced Ham, Pineapple, Mozzarella Cheese  \n",
       "1  Pepperoni, Mushrooms, Red Onions, Red Peppers,...  \n",
       "2  Mozzarella Cheese, Provolone Cheese, Smoked Go...  \n",
       "3  Calabrese Salami, Capocollo, Tomatoes, Red Oni...  \n",
       "4  Tomatoes, Red Peppers, Jalapeno Peppers, Red O...  "
      ]
     },
     "execution_count": 178,
     "metadata": {},
     "output_type": "execute_result"
    }
   ],
   "source": [
    "# merging order_details with pizza to get the price\n",
    "details_prices = pd.merge(order_details, pizzas, on=\"pizza_id\")\n",
    "#merging with orders to get order date/time\n",
    "full_data = pd.merge(details_prices,orders, on=\"order_id\")\n",
    "#merging with pizza_types to get pizza categories and ingredients\n",
    "full_data = pd.merge(full_data, pizza_types, on=\"pizza_type_id\")\n",
    "\n",
    "full_data.head()\n"
   ]
  },
  {
   "cell_type": "code",
   "execution_count": 182,
   "id": "78117c71-b988-4175-8cc8-75bcb64921fb",
   "metadata": {},
   "outputs": [
    {
     "name": "stdout",
     "output_type": "stream",
     "text": [
      "<class 'pandas.core.frame.DataFrame'>\n",
      "RangeIndex: 48620 entries, 0 to 48619\n",
      "Data columns (total 12 columns):\n",
      " #   Column            Non-Null Count  Dtype  \n",
      "---  ------            --------------  -----  \n",
      " 0   order_details_id  48620 non-null  int64  \n",
      " 1   order_id          48620 non-null  int64  \n",
      " 2   pizza_id          48620 non-null  object \n",
      " 3   quantity          48620 non-null  int64  \n",
      " 4   pizza_type_id     48620 non-null  object \n",
      " 5   size              48620 non-null  object \n",
      " 6   price             48620 non-null  float64\n",
      " 7   date              48620 non-null  object \n",
      " 8   time              48620 non-null  object \n",
      " 9   name              48620 non-null  object \n",
      " 10  category          48620 non-null  object \n",
      " 11  ingredients       48620 non-null  object \n",
      "dtypes: float64(1), int64(3), object(8)\n",
      "memory usage: 4.5+ MB\n"
     ]
    }
   ],
   "source": [
    "#to get the infomation about the data set\n",
    "full_data.info()"
   ]
  },
  {
   "cell_type": "code",
   "execution_count": 226,
   "id": "bab1d2d5-5ede-4ac7-9fe4-82d85f42354a",
   "metadata": {},
   "outputs": [],
   "source": [
    "# to convert date/time columns\n",
    "full_data['data'] = pd.to_datetime(full_data['date'], dayfirst=True)\n",
    "full_data['time'] = pd.to_datetime(full_data['time'], format=\"%H:%M:%S\").dt.time\n",
    "full_data[\"day\"] = full_data[\"date\"].dt.day_name()\n",
    "full_data[\"month\"] = full_data[\"date\"].dt.month_name()"
   ]
  },
  {
   "cell_type": "code",
   "execution_count": 228,
   "id": "6ecd65a6-27f8-4717-9050-99eddd011051",
   "metadata": {},
   "outputs": [
    {
     "data": {
      "text/html": [
       "<div>\n",
       "<style scoped>\n",
       "    .dataframe tbody tr th:only-of-type {\n",
       "        vertical-align: middle;\n",
       "    }\n",
       "\n",
       "    .dataframe tbody tr th {\n",
       "        vertical-align: top;\n",
       "    }\n",
       "\n",
       "    .dataframe thead th {\n",
       "        text-align: right;\n",
       "    }\n",
       "</style>\n",
       "<table border=\"1\" class=\"dataframe\">\n",
       "  <thead>\n",
       "    <tr style=\"text-align: right;\">\n",
       "      <th></th>\n",
       "      <th>order_details_id</th>\n",
       "      <th>order_id</th>\n",
       "      <th>pizza_id</th>\n",
       "      <th>quantity</th>\n",
       "      <th>pizza_type_id</th>\n",
       "      <th>size</th>\n",
       "      <th>price</th>\n",
       "      <th>date</th>\n",
       "      <th>time</th>\n",
       "      <th>name</th>\n",
       "      <th>category</th>\n",
       "      <th>ingredients</th>\n",
       "      <th>data</th>\n",
       "      <th>day</th>\n",
       "      <th>month</th>\n",
       "    </tr>\n",
       "  </thead>\n",
       "  <tbody>\n",
       "    <tr>\n",
       "      <th>0</th>\n",
       "      <td>1</td>\n",
       "      <td>1</td>\n",
       "      <td>hawaiian_m</td>\n",
       "      <td>1</td>\n",
       "      <td>hawaiian</td>\n",
       "      <td>M</td>\n",
       "      <td>13.25</td>\n",
       "      <td>2015-01-01</td>\n",
       "      <td>11:38:36</td>\n",
       "      <td>The Hawaiian Pizza</td>\n",
       "      <td>Classic</td>\n",
       "      <td>Sliced Ham, Pineapple, Mozzarella Cheese</td>\n",
       "      <td>2015-01-01</td>\n",
       "      <td>Thursday</td>\n",
       "      <td>January</td>\n",
       "    </tr>\n",
       "    <tr>\n",
       "      <th>1</th>\n",
       "      <td>2</td>\n",
       "      <td>2</td>\n",
       "      <td>classic_dlx_m</td>\n",
       "      <td>1</td>\n",
       "      <td>classic_dlx</td>\n",
       "      <td>M</td>\n",
       "      <td>16.00</td>\n",
       "      <td>2015-01-01</td>\n",
       "      <td>11:57:40</td>\n",
       "      <td>The Classic Deluxe Pizza</td>\n",
       "      <td>Classic</td>\n",
       "      <td>Pepperoni, Mushrooms, Red Onions, Red Peppers,...</td>\n",
       "      <td>2015-01-01</td>\n",
       "      <td>Thursday</td>\n",
       "      <td>January</td>\n",
       "    </tr>\n",
       "    <tr>\n",
       "      <th>2</th>\n",
       "      <td>3</td>\n",
       "      <td>2</td>\n",
       "      <td>five_cheese_l</td>\n",
       "      <td>1</td>\n",
       "      <td>five_cheese</td>\n",
       "      <td>L</td>\n",
       "      <td>18.50</td>\n",
       "      <td>2015-01-01</td>\n",
       "      <td>11:57:40</td>\n",
       "      <td>The Five Cheese Pizza</td>\n",
       "      <td>Veggie</td>\n",
       "      <td>Mozzarella Cheese, Provolone Cheese, Smoked Go...</td>\n",
       "      <td>2015-01-01</td>\n",
       "      <td>Thursday</td>\n",
       "      <td>January</td>\n",
       "    </tr>\n",
       "    <tr>\n",
       "      <th>3</th>\n",
       "      <td>4</td>\n",
       "      <td>2</td>\n",
       "      <td>ital_supr_l</td>\n",
       "      <td>1</td>\n",
       "      <td>ital_supr</td>\n",
       "      <td>L</td>\n",
       "      <td>20.75</td>\n",
       "      <td>2015-01-01</td>\n",
       "      <td>11:57:40</td>\n",
       "      <td>The Italian Supreme Pizza</td>\n",
       "      <td>Supreme</td>\n",
       "      <td>Calabrese Salami, Capocollo, Tomatoes, Red Oni...</td>\n",
       "      <td>2015-01-01</td>\n",
       "      <td>Thursday</td>\n",
       "      <td>January</td>\n",
       "    </tr>\n",
       "    <tr>\n",
       "      <th>4</th>\n",
       "      <td>5</td>\n",
       "      <td>2</td>\n",
       "      <td>mexicana_m</td>\n",
       "      <td>1</td>\n",
       "      <td>mexicana</td>\n",
       "      <td>M</td>\n",
       "      <td>16.00</td>\n",
       "      <td>2015-01-01</td>\n",
       "      <td>11:57:40</td>\n",
       "      <td>The Mexicana Pizza</td>\n",
       "      <td>Veggie</td>\n",
       "      <td>Tomatoes, Red Peppers, Jalapeno Peppers, Red O...</td>\n",
       "      <td>2015-01-01</td>\n",
       "      <td>Thursday</td>\n",
       "      <td>January</td>\n",
       "    </tr>\n",
       "  </tbody>\n",
       "</table>\n",
       "</div>"
      ],
      "text/plain": [
       "   order_details_id  order_id       pizza_id  quantity pizza_type_id size  \\\n",
       "0                 1         1     hawaiian_m         1      hawaiian    M   \n",
       "1                 2         2  classic_dlx_m         1   classic_dlx    M   \n",
       "2                 3         2  five_cheese_l         1   five_cheese    L   \n",
       "3                 4         2    ital_supr_l         1     ital_supr    L   \n",
       "4                 5         2     mexicana_m         1      mexicana    M   \n",
       "\n",
       "   price       date      time                       name category  \\\n",
       "0  13.25 2015-01-01  11:38:36         The Hawaiian Pizza  Classic   \n",
       "1  16.00 2015-01-01  11:57:40   The Classic Deluxe Pizza  Classic   \n",
       "2  18.50 2015-01-01  11:57:40      The Five Cheese Pizza   Veggie   \n",
       "3  20.75 2015-01-01  11:57:40  The Italian Supreme Pizza  Supreme   \n",
       "4  16.00 2015-01-01  11:57:40         The Mexicana Pizza   Veggie   \n",
       "\n",
       "                                         ingredients       data       day  \\\n",
       "0           Sliced Ham, Pineapple, Mozzarella Cheese 2015-01-01  Thursday   \n",
       "1  Pepperoni, Mushrooms, Red Onions, Red Peppers,... 2015-01-01  Thursday   \n",
       "2  Mozzarella Cheese, Provolone Cheese, Smoked Go... 2015-01-01  Thursday   \n",
       "3  Calabrese Salami, Capocollo, Tomatoes, Red Oni... 2015-01-01  Thursday   \n",
       "4  Tomatoes, Red Peppers, Jalapeno Peppers, Red O... 2015-01-01  Thursday   \n",
       "\n",
       "     month  \n",
       "0  January  \n",
       "1  January  \n",
       "2  January  \n",
       "3  January  \n",
       "4  January  "
      ]
     },
     "execution_count": 228,
     "metadata": {},
     "output_type": "execute_result"
    }
   ],
   "source": [
    "full_data.head()"
   ]
  },
  {
   "cell_type": "code",
   "execution_count": 196,
   "id": "1a151411-ebeb-48a8-9f2e-d0631d88b1df",
   "metadata": {},
   "outputs": [
    {
     "name": "stdout",
     "output_type": "stream",
     "text": [
      "<class 'pandas.core.frame.DataFrame'>\n",
      "RangeIndex: 48620 entries, 0 to 48619\n",
      "Data columns (total 12 columns):\n",
      " #   Column            Non-Null Count  Dtype         \n",
      "---  ------            --------------  -----         \n",
      " 0   order_details_id  48620 non-null  int64         \n",
      " 1   order_id          48620 non-null  int64         \n",
      " 2   pizza_id          48620 non-null  object        \n",
      " 3   quantity          48620 non-null  int64         \n",
      " 4   pizza_type_id     48620 non-null  object        \n",
      " 5   size              48620 non-null  object        \n",
      " 6   price             48620 non-null  float64       \n",
      " 7   date              48620 non-null  datetime64[ns]\n",
      " 8   time              48620 non-null  object        \n",
      " 9   name              48620 non-null  object        \n",
      " 10  category          48620 non-null  object        \n",
      " 11  ingredients       48620 non-null  object        \n",
      "dtypes: datetime64[ns](1), float64(1), int64(3), object(7)\n",
      "memory usage: 4.5+ MB\n"
     ]
    }
   ],
   "source": [
    "#to check if the changes made on the date column has been corrected on the data set\n",
    "full_data.info()"
   ]
  },
  {
   "cell_type": "code",
   "execution_count": 200,
   "id": "9c53d843-ba46-4d7a-a275-e6cfca3f40ab",
   "metadata": {},
   "outputs": [
    {
     "data": {
      "text/plain": [
       "order_details_id    0\n",
       "order_id            0\n",
       "pizza_id            0\n",
       "quantity            0\n",
       "pizza_type_id       0\n",
       "size                0\n",
       "price               0\n",
       "date                0\n",
       "time                0\n",
       "name                0\n",
       "category            0\n",
       "ingredients         0\n",
       "dtype: int64"
      ]
     },
     "execution_count": 200,
     "metadata": {},
     "output_type": "execute_result"
    }
   ],
   "source": [
    "#to check for null value of each coulumn\n",
    "full_data.isna().sum()"
   ]
  },
  {
   "cell_type": "code",
   "execution_count": 202,
   "id": "d0cfd39e-ca74-464e-9112-d328242edc75",
   "metadata": {},
   "outputs": [
    {
     "data": {
      "text/plain": [
       "order_details_id\n",
       "1        1\n",
       "32418    1\n",
       "32409    1\n",
       "32410    1\n",
       "32411    1\n",
       "        ..\n",
       "16209    1\n",
       "16210    1\n",
       "16211    1\n",
       "16212    1\n",
       "48620    1\n",
       "Name: count, Length: 48620, dtype: int64"
      ]
     },
     "execution_count": 202,
     "metadata": {},
     "output_type": "execute_result"
    }
   ],
   "source": [
    "##to check value counts for order details\n",
    "full_data[\"order_details_id\"].value_counts()"
   ]
  },
  {
   "cell_type": "code",
   "execution_count": 204,
   "id": "f4d84f58-fb9d-4965-b9b7-44cf124e3061",
   "metadata": {
    "scrolled": true
   },
   "outputs": [
    {
     "data": {
      "text/plain": [
       "order_id\n",
       "18845    21\n",
       "10760    21\n",
       "18280    15\n",
       "21158    15\n",
       "17464    15\n",
       "         ..\n",
       "10351     1\n",
       "10355     1\n",
       "10357     1\n",
       "10360     1\n",
       "21350     1\n",
       "Name: count, Length: 21350, dtype: int64"
      ]
     },
     "execution_count": 204,
     "metadata": {},
     "output_type": "execute_result"
    }
   ],
   "source": [
    "##to check value counts for order_id\n",
    "full_data[\"order_id\"].value_counts()"
   ]
  },
  {
   "cell_type": "code",
   "execution_count": 206,
   "id": "7d7d465f-6d2e-47f8-a3e7-6fb04bb03835",
   "metadata": {},
   "outputs": [
    {
     "data": {
      "text/plain": [
       "quantity\n",
       "1    47693\n",
       "2      903\n",
       "3       21\n",
       "4        3\n",
       "Name: count, dtype: int64"
      ]
     },
     "execution_count": 206,
     "metadata": {},
     "output_type": "execute_result"
    }
   ],
   "source": [
    "#to check value counts for quantity\n",
    "full_data[\"quantity\"].value_counts()"
   ]
  },
  {
   "cell_type": "code",
   "execution_count": 208,
   "id": "63e52015-71ff-4428-b732-477d2a388e9f",
   "metadata": {},
   "outputs": [
    {
     "data": {
      "text/plain": [
       "pizza_id\n",
       "big_meat_s        1811\n",
       "thai_ckn_l        1365\n",
       "five_cheese_l     1359\n",
       "four_cheese_l     1273\n",
       "classic_dlx_m     1159\n",
       "                  ... \n",
       "mexicana_s         160\n",
       "calabrese_s         99\n",
       "ckn_alfredo_s       96\n",
       "green_garden_l      94\n",
       "the_greek_xxl       28\n",
       "Name: count, Length: 91, dtype: int64"
      ]
     },
     "execution_count": 208,
     "metadata": {},
     "output_type": "execute_result"
    }
   ],
   "source": [
    "#to check the value count for pizza_id\n",
    "full_data[\"pizza_id\"].value_counts()"
   ]
  },
  {
   "cell_type": "markdown",
   "id": "c62338b2-c4a6-4750-a22d-a039a84cb6e2",
   "metadata": {},
   "source": [
    "1. To get the total revenue"
   ]
  },
  {
   "cell_type": "code",
   "execution_count": 240,
   "id": "72005658-f983-45a1-89c3-3ee57a29f16b",
   "metadata": {},
   "outputs": [],
   "source": [
    "# to get create revenue column \n",
    "full_data['revenue'] = full_data['price'] * full_data['quantity']"
   ]
  },
  {
   "cell_type": "code",
   "execution_count": 242,
   "id": "f9b30378-b206-4209-ac31-53f6addd26b7",
   "metadata": {},
   "outputs": [
    {
     "data": {
      "text/html": [
       "<div>\n",
       "<style scoped>\n",
       "    .dataframe tbody tr th:only-of-type {\n",
       "        vertical-align: middle;\n",
       "    }\n",
       "\n",
       "    .dataframe tbody tr th {\n",
       "        vertical-align: top;\n",
       "    }\n",
       "\n",
       "    .dataframe thead th {\n",
       "        text-align: right;\n",
       "    }\n",
       "</style>\n",
       "<table border=\"1\" class=\"dataframe\">\n",
       "  <thead>\n",
       "    <tr style=\"text-align: right;\">\n",
       "      <th></th>\n",
       "      <th>order_details_id</th>\n",
       "      <th>order_id</th>\n",
       "      <th>pizza_id</th>\n",
       "      <th>quantity</th>\n",
       "      <th>pizza_type_id</th>\n",
       "      <th>size</th>\n",
       "      <th>price</th>\n",
       "      <th>date</th>\n",
       "      <th>time</th>\n",
       "      <th>name</th>\n",
       "      <th>category</th>\n",
       "      <th>ingredients</th>\n",
       "      <th>data</th>\n",
       "      <th>day</th>\n",
       "      <th>month</th>\n",
       "      <th>revenue</th>\n",
       "    </tr>\n",
       "  </thead>\n",
       "  <tbody>\n",
       "    <tr>\n",
       "      <th>0</th>\n",
       "      <td>1</td>\n",
       "      <td>1</td>\n",
       "      <td>hawaiian_m</td>\n",
       "      <td>1</td>\n",
       "      <td>hawaiian</td>\n",
       "      <td>M</td>\n",
       "      <td>13.25</td>\n",
       "      <td>2015-01-01</td>\n",
       "      <td>11:38:36</td>\n",
       "      <td>The Hawaiian Pizza</td>\n",
       "      <td>Classic</td>\n",
       "      <td>Sliced Ham, Pineapple, Mozzarella Cheese</td>\n",
       "      <td>2015-01-01</td>\n",
       "      <td>Thursday</td>\n",
       "      <td>January</td>\n",
       "      <td>13.25</td>\n",
       "    </tr>\n",
       "    <tr>\n",
       "      <th>1</th>\n",
       "      <td>2</td>\n",
       "      <td>2</td>\n",
       "      <td>classic_dlx_m</td>\n",
       "      <td>1</td>\n",
       "      <td>classic_dlx</td>\n",
       "      <td>M</td>\n",
       "      <td>16.00</td>\n",
       "      <td>2015-01-01</td>\n",
       "      <td>11:57:40</td>\n",
       "      <td>The Classic Deluxe Pizza</td>\n",
       "      <td>Classic</td>\n",
       "      <td>Pepperoni, Mushrooms, Red Onions, Red Peppers,...</td>\n",
       "      <td>2015-01-01</td>\n",
       "      <td>Thursday</td>\n",
       "      <td>January</td>\n",
       "      <td>16.00</td>\n",
       "    </tr>\n",
       "    <tr>\n",
       "      <th>2</th>\n",
       "      <td>3</td>\n",
       "      <td>2</td>\n",
       "      <td>five_cheese_l</td>\n",
       "      <td>1</td>\n",
       "      <td>five_cheese</td>\n",
       "      <td>L</td>\n",
       "      <td>18.50</td>\n",
       "      <td>2015-01-01</td>\n",
       "      <td>11:57:40</td>\n",
       "      <td>The Five Cheese Pizza</td>\n",
       "      <td>Veggie</td>\n",
       "      <td>Mozzarella Cheese, Provolone Cheese, Smoked Go...</td>\n",
       "      <td>2015-01-01</td>\n",
       "      <td>Thursday</td>\n",
       "      <td>January</td>\n",
       "      <td>18.50</td>\n",
       "    </tr>\n",
       "    <tr>\n",
       "      <th>3</th>\n",
       "      <td>4</td>\n",
       "      <td>2</td>\n",
       "      <td>ital_supr_l</td>\n",
       "      <td>1</td>\n",
       "      <td>ital_supr</td>\n",
       "      <td>L</td>\n",
       "      <td>20.75</td>\n",
       "      <td>2015-01-01</td>\n",
       "      <td>11:57:40</td>\n",
       "      <td>The Italian Supreme Pizza</td>\n",
       "      <td>Supreme</td>\n",
       "      <td>Calabrese Salami, Capocollo, Tomatoes, Red Oni...</td>\n",
       "      <td>2015-01-01</td>\n",
       "      <td>Thursday</td>\n",
       "      <td>January</td>\n",
       "      <td>20.75</td>\n",
       "    </tr>\n",
       "    <tr>\n",
       "      <th>4</th>\n",
       "      <td>5</td>\n",
       "      <td>2</td>\n",
       "      <td>mexicana_m</td>\n",
       "      <td>1</td>\n",
       "      <td>mexicana</td>\n",
       "      <td>M</td>\n",
       "      <td>16.00</td>\n",
       "      <td>2015-01-01</td>\n",
       "      <td>11:57:40</td>\n",
       "      <td>The Mexicana Pizza</td>\n",
       "      <td>Veggie</td>\n",
       "      <td>Tomatoes, Red Peppers, Jalapeno Peppers, Red O...</td>\n",
       "      <td>2015-01-01</td>\n",
       "      <td>Thursday</td>\n",
       "      <td>January</td>\n",
       "      <td>16.00</td>\n",
       "    </tr>\n",
       "  </tbody>\n",
       "</table>\n",
       "</div>"
      ],
      "text/plain": [
       "   order_details_id  order_id       pizza_id  quantity pizza_type_id size  \\\n",
       "0                 1         1     hawaiian_m         1      hawaiian    M   \n",
       "1                 2         2  classic_dlx_m         1   classic_dlx    M   \n",
       "2                 3         2  five_cheese_l         1   five_cheese    L   \n",
       "3                 4         2    ital_supr_l         1     ital_supr    L   \n",
       "4                 5         2     mexicana_m         1      mexicana    M   \n",
       "\n",
       "   price       date      time                       name category  \\\n",
       "0  13.25 2015-01-01  11:38:36         The Hawaiian Pizza  Classic   \n",
       "1  16.00 2015-01-01  11:57:40   The Classic Deluxe Pizza  Classic   \n",
       "2  18.50 2015-01-01  11:57:40      The Five Cheese Pizza   Veggie   \n",
       "3  20.75 2015-01-01  11:57:40  The Italian Supreme Pizza  Supreme   \n",
       "4  16.00 2015-01-01  11:57:40         The Mexicana Pizza   Veggie   \n",
       "\n",
       "                                         ingredients       data       day  \\\n",
       "0           Sliced Ham, Pineapple, Mozzarella Cheese 2015-01-01  Thursday   \n",
       "1  Pepperoni, Mushrooms, Red Onions, Red Peppers,... 2015-01-01  Thursday   \n",
       "2  Mozzarella Cheese, Provolone Cheese, Smoked Go... 2015-01-01  Thursday   \n",
       "3  Calabrese Salami, Capocollo, Tomatoes, Red Oni... 2015-01-01  Thursday   \n",
       "4  Tomatoes, Red Peppers, Jalapeno Peppers, Red O... 2015-01-01  Thursday   \n",
       "\n",
       "     month  revenue  \n",
       "0  January    13.25  \n",
       "1  January    16.00  \n",
       "2  January    18.50  \n",
       "3  January    20.75  \n",
       "4  January    16.00  "
      ]
     },
     "execution_count": 242,
     "metadata": {},
     "output_type": "execute_result"
    }
   ],
   "source": [
    "full_data.head()"
   ]
  },
  {
   "cell_type": "code",
   "execution_count": 254,
   "id": "01fef71c-c1fc-457d-b598-624b762a6d22",
   "metadata": {},
   "outputs": [
    {
     "data": {
      "text/plain": [
       "817860.05"
      ]
     },
     "execution_count": 254,
     "metadata": {},
     "output_type": "execute_result"
    }
   ],
   "source": [
    "#To get total revenue\n",
    "Total_revenue = full_data['revenue'].sum()\n",
    "Total_revenue"
   ]
  },
  {
   "cell_type": "code",
   "execution_count": 250,
   "id": "a2e00644-7702-4680-bab7-8b6aed95da85",
   "metadata": {},
   "outputs": [
    {
     "data": {
      "text/plain": [
       "49574"
      ]
     },
     "execution_count": 250,
     "metadata": {},
     "output_type": "execute_result"
    }
   ],
   "source": [
    "# To get total quantity\n",
    "total_quantity=full_data['quantity'].sum()\n",
    "total_quantity\n"
   ]
  },
  {
   "cell_type": "code",
   "execution_count": 256,
   "id": "741ddf4f-4a77-4789-a303-188e67c0a324",
   "metadata": {},
   "outputs": [
    {
     "data": {
      "text/plain": [
       "520305946"
      ]
     },
     "execution_count": 256,
     "metadata": {},
     "output_type": "execute_result"
    }
   ],
   "source": [
    "#To get the total orders\n",
    "Total_orders = full_data['order_id'].sum()\n",
    "Total_orders"
   ]
  },
  {
   "cell_type": "code",
   "execution_count": 270,
   "id": "f61dbfd3-eb40-4807-8b4a-9f5d4a5a60f0",
   "metadata": {},
   "outputs": [
    {
     "data": {
      "text/plain": [
       "array(['hawaiian', 'classic_dlx', 'five_cheese', 'ital_supr', 'mexicana',\n",
       "       'thai_ckn', 'prsc_argla', 'bbq_ckn', 'the_greek', 'spinach_supr',\n",
       "       'green_garden', 'ital_cpcllo', 'spicy_ital', 'spin_pesto',\n",
       "       'veggie_veg', 'southw_ckn', 'cali_ckn', 'pepperoni', 'ckn_pesto',\n",
       "       'big_meat', 'soppressata', 'four_cheese', 'napolitana',\n",
       "       'calabrese', 'ital_veggie', 'mediterraneo', 'peppr_salami',\n",
       "       'spinach_fet', 'sicilian', 'ckn_alfredo', 'pep_msh_pep',\n",
       "       'brie_carre'], dtype=object)"
      ]
     },
     "execution_count": 270,
     "metadata": {},
     "output_type": "execute_result"
    }
   ],
   "source": [
    "#to get the how many pizza type they do sell\n",
    "pizza_type = full_data['pizza_type_id'].unique()\n",
    "pizza_type"
   ]
  },
  {
   "cell_type": "code",
   "execution_count": 274,
   "id": "976cb123-a2cb-4dd2-9368-58fc0da306f7",
   "metadata": {},
   "outputs": [
    {
     "data": {
      "text/plain": [
       "32"
      ]
     },
     "execution_count": 274,
     "metadata": {},
     "output_type": "execute_result"
    }
   ],
   "source": [
    "num_pizza_types = full_data['pizza_type_id'].nunique()\n",
    "\n",
    "num_pizza_types"
   ]
  },
  {
   "cell_type": "code",
   "execution_count": 276,
   "id": "e9b0a957-032a-4d7c-91b6-c493d6e0926c",
   "metadata": {},
   "outputs": [
    {
     "data": {
      "text/plain": [
       "16.494132044426163"
      ]
     },
     "execution_count": 276,
     "metadata": {},
     "output_type": "execute_result"
    }
   ],
   "source": [
    "# To get the average price pizzas\n",
    "average_price = full_data['price'].mean()\n",
    "\n",
    "average_price"
   ]
  },
  {
   "cell_type": "markdown",
   "id": "ad314f0a-70b4-46d7-ad41-98662cf30ef1",
   "metadata": {},
   "source": [
    "# To get the peak hours of sales"
   ]
  },
  {
   "cell_type": "code",
   "execution_count": 279,
   "id": "c1a15ce9-8c46-4d3e-a0b3-e8fe587a093f",
   "metadata": {},
   "outputs": [
    {
     "data": {
      "text/html": [
       "<div>\n",
       "<style scoped>\n",
       "    .dataframe tbody tr th:only-of-type {\n",
       "        vertical-align: middle;\n",
       "    }\n",
       "\n",
       "    .dataframe tbody tr th {\n",
       "        vertical-align: top;\n",
       "    }\n",
       "\n",
       "    .dataframe thead th {\n",
       "        text-align: right;\n",
       "    }\n",
       "</style>\n",
       "<table border=\"1\" class=\"dataframe\">\n",
       "  <thead>\n",
       "    <tr style=\"text-align: right;\">\n",
       "      <th></th>\n",
       "      <th>order_details_id</th>\n",
       "      <th>order_id</th>\n",
       "      <th>pizza_id</th>\n",
       "      <th>quantity</th>\n",
       "      <th>pizza_type_id</th>\n",
       "      <th>size</th>\n",
       "      <th>price</th>\n",
       "      <th>date</th>\n",
       "      <th>time</th>\n",
       "      <th>name</th>\n",
       "      <th>category</th>\n",
       "      <th>ingredients</th>\n",
       "      <th>data</th>\n",
       "      <th>day</th>\n",
       "      <th>month</th>\n",
       "      <th>revenue</th>\n",
       "    </tr>\n",
       "  </thead>\n",
       "  <tbody>\n",
       "    <tr>\n",
       "      <th>0</th>\n",
       "      <td>1</td>\n",
       "      <td>1</td>\n",
       "      <td>hawaiian_m</td>\n",
       "      <td>1</td>\n",
       "      <td>hawaiian</td>\n",
       "      <td>M</td>\n",
       "      <td>13.25</td>\n",
       "      <td>2015-01-01</td>\n",
       "      <td>11:38:36</td>\n",
       "      <td>The Hawaiian Pizza</td>\n",
       "      <td>Classic</td>\n",
       "      <td>Sliced Ham, Pineapple, Mozzarella Cheese</td>\n",
       "      <td>2015-01-01</td>\n",
       "      <td>Thursday</td>\n",
       "      <td>January</td>\n",
       "      <td>13.25</td>\n",
       "    </tr>\n",
       "    <tr>\n",
       "      <th>1</th>\n",
       "      <td>2</td>\n",
       "      <td>2</td>\n",
       "      <td>classic_dlx_m</td>\n",
       "      <td>1</td>\n",
       "      <td>classic_dlx</td>\n",
       "      <td>M</td>\n",
       "      <td>16.00</td>\n",
       "      <td>2015-01-01</td>\n",
       "      <td>11:57:40</td>\n",
       "      <td>The Classic Deluxe Pizza</td>\n",
       "      <td>Classic</td>\n",
       "      <td>Pepperoni, Mushrooms, Red Onions, Red Peppers,...</td>\n",
       "      <td>2015-01-01</td>\n",
       "      <td>Thursday</td>\n",
       "      <td>January</td>\n",
       "      <td>16.00</td>\n",
       "    </tr>\n",
       "    <tr>\n",
       "      <th>2</th>\n",
       "      <td>3</td>\n",
       "      <td>2</td>\n",
       "      <td>five_cheese_l</td>\n",
       "      <td>1</td>\n",
       "      <td>five_cheese</td>\n",
       "      <td>L</td>\n",
       "      <td>18.50</td>\n",
       "      <td>2015-01-01</td>\n",
       "      <td>11:57:40</td>\n",
       "      <td>The Five Cheese Pizza</td>\n",
       "      <td>Veggie</td>\n",
       "      <td>Mozzarella Cheese, Provolone Cheese, Smoked Go...</td>\n",
       "      <td>2015-01-01</td>\n",
       "      <td>Thursday</td>\n",
       "      <td>January</td>\n",
       "      <td>18.50</td>\n",
       "    </tr>\n",
       "    <tr>\n",
       "      <th>3</th>\n",
       "      <td>4</td>\n",
       "      <td>2</td>\n",
       "      <td>ital_supr_l</td>\n",
       "      <td>1</td>\n",
       "      <td>ital_supr</td>\n",
       "      <td>L</td>\n",
       "      <td>20.75</td>\n",
       "      <td>2015-01-01</td>\n",
       "      <td>11:57:40</td>\n",
       "      <td>The Italian Supreme Pizza</td>\n",
       "      <td>Supreme</td>\n",
       "      <td>Calabrese Salami, Capocollo, Tomatoes, Red Oni...</td>\n",
       "      <td>2015-01-01</td>\n",
       "      <td>Thursday</td>\n",
       "      <td>January</td>\n",
       "      <td>20.75</td>\n",
       "    </tr>\n",
       "    <tr>\n",
       "      <th>4</th>\n",
       "      <td>5</td>\n",
       "      <td>2</td>\n",
       "      <td>mexicana_m</td>\n",
       "      <td>1</td>\n",
       "      <td>mexicana</td>\n",
       "      <td>M</td>\n",
       "      <td>16.00</td>\n",
       "      <td>2015-01-01</td>\n",
       "      <td>11:57:40</td>\n",
       "      <td>The Mexicana Pizza</td>\n",
       "      <td>Veggie</td>\n",
       "      <td>Tomatoes, Red Peppers, Jalapeno Peppers, Red O...</td>\n",
       "      <td>2015-01-01</td>\n",
       "      <td>Thursday</td>\n",
       "      <td>January</td>\n",
       "      <td>16.00</td>\n",
       "    </tr>\n",
       "  </tbody>\n",
       "</table>\n",
       "</div>"
      ],
      "text/plain": [
       "   order_details_id  order_id       pizza_id  quantity pizza_type_id size  \\\n",
       "0                 1         1     hawaiian_m         1      hawaiian    M   \n",
       "1                 2         2  classic_dlx_m         1   classic_dlx    M   \n",
       "2                 3         2  five_cheese_l         1   five_cheese    L   \n",
       "3                 4         2    ital_supr_l         1     ital_supr    L   \n",
       "4                 5         2     mexicana_m         1      mexicana    M   \n",
       "\n",
       "   price       date      time                       name category  \\\n",
       "0  13.25 2015-01-01  11:38:36         The Hawaiian Pizza  Classic   \n",
       "1  16.00 2015-01-01  11:57:40   The Classic Deluxe Pizza  Classic   \n",
       "2  18.50 2015-01-01  11:57:40      The Five Cheese Pizza   Veggie   \n",
       "3  20.75 2015-01-01  11:57:40  The Italian Supreme Pizza  Supreme   \n",
       "4  16.00 2015-01-01  11:57:40         The Mexicana Pizza   Veggie   \n",
       "\n",
       "                                         ingredients       data       day  \\\n",
       "0           Sliced Ham, Pineapple, Mozzarella Cheese 2015-01-01  Thursday   \n",
       "1  Pepperoni, Mushrooms, Red Onions, Red Peppers,... 2015-01-01  Thursday   \n",
       "2  Mozzarella Cheese, Provolone Cheese, Smoked Go... 2015-01-01  Thursday   \n",
       "3  Calabrese Salami, Capocollo, Tomatoes, Red Oni... 2015-01-01  Thursday   \n",
       "4  Tomatoes, Red Peppers, Jalapeno Peppers, Red O... 2015-01-01  Thursday   \n",
       "\n",
       "     month  revenue  \n",
       "0  January    13.25  \n",
       "1  January    16.00  \n",
       "2  January    18.50  \n",
       "3  January    20.75  \n",
       "4  January    16.00  "
      ]
     },
     "execution_count": 279,
     "metadata": {},
     "output_type": "execute_result"
    }
   ],
   "source": [
    "full_data.head()"
   ]
  },
  {
   "cell_type": "code",
   "execution_count": 301,
   "id": "cfbdd78f-4096-4215-b24f-611fe294f4c0",
   "metadata": {},
   "outputs": [],
   "source": [
    "#to change the time column to datetime type\n",
    "full_data['time'] = pd.to_datetime(full_data['time'], format='%H:%M:%S', errors='coerce')\n"
   ]
  },
  {
   "cell_type": "code",
   "execution_count": 303,
   "id": "85c60aea-dea6-4e10-b810-84f0b7298c1a",
   "metadata": {},
   "outputs": [],
   "source": [
    "#to create hour column\n",
    "full_data['hour'] = full_data['time'].dt.hour\n"
   ]
  },
  {
   "cell_type": "code",
   "execution_count": 307,
   "id": "c1a51edb-4c40-4dac-9875-8d1f0bf7e0b8",
   "metadata": {},
   "outputs": [
    {
     "data": {
      "text/plain": [
       "hour\n",
       "9        4\n",
       "10      17\n",
       "11    2672\n",
       "12    6543\n",
       "13    6203\n",
       "14    3521\n",
       "15    3170\n",
       "16    4185\n",
       "17    5143\n",
       "18    5359\n",
       "19    4350\n",
       "20    3487\n",
       "21    2528\n",
       "22    1370\n",
       "23      68\n",
       "Name: count, dtype: int64"
      ]
     },
     "execution_count": 307,
     "metadata": {},
     "output_type": "execute_result"
    }
   ],
   "source": [
    "# To get the total sale per hour\n",
    "sales_per_hour = full_data['hour'].value_counts().sort_index()\n",
    "\n",
    "sales_per_hour"
   ]
  },
  {
   "cell_type": "code",
   "execution_count": 351,
   "id": "f7459b38-ea0e-440e-88f5-af24f6e332dd",
   "metadata": {},
   "outputs": [
    {
     "data": {
      "text/plain": [
       "<function matplotlib.pyplot.show(close=None, block=None)>"
      ]
     },
     "execution_count": 351,
     "metadata": {},
     "output_type": "execute_result"
    },
    {
     "data": {
      "image/png": "[encoded data removed]",
      "text/plain": [
       "<Figure size 640x480 with 1 Axes>"
      ]
     },
     "metadata": {},
     "output_type": "display_data"
    }
   ],
   "source": [
    "#to visualize the most sales hour\n",
    "sales_per_hour.plot(kind ='bar')\n",
    "plt.savefig(\"task3b_plot.png\", dpi=300,bbox_inches='tight')\n",
    "plt.show"
   ]
  },
  {
   "cell_type": "code",
   "execution_count": 311,
   "id": "d9e6b396-ee95-4ee9-9fe9-9bfad4ae7e16",
   "metadata": {
    "scrolled": true
   },
   "outputs": [
    {
     "data": {
      "text/plain": [
       "12"
      ]
     },
     "execution_count": 311,
     "metadata": {},
     "output_type": "execute_result"
    }
   ],
   "source": [
    "# to get the peak hour sale\n",
    "peak_hour = sales_per_hour.idxmax()\n",
    "peak_hour"
   ]
  },
  {
   "cell_type": "markdown",
   "id": "84b0e6cb-9dd0-4d43-bd1a-f7734fe64087",
   "metadata": {},
   "source": [
    "# To get the day with the most sales"
   ]
  },
  {
   "cell_type": "code",
   "execution_count": 313,
   "id": "e2dcb8dd-fb9b-4b35-b543-b90753d31250",
   "metadata": {},
   "outputs": [],
   "source": [
    "# Group revenue with days\n",
    "Sales_by_day = full_data.groupby('day')['revenue'].sum().reindex(['Monday', 'Tuesday', 'Wednesday', 'Thursday', 'Friday', 'Saturday', 'Sunday'])"
   ]
  },
  {
   "cell_type": "code",
   "execution_count": 315,
   "id": "3f71e9a9-60c2-4722-aeea-f1e27885b862",
   "metadata": {},
   "outputs": [
    {
     "data": {
      "text/plain": [
       "day\n",
       "Monday       107329.55\n",
       "Tuesday      114133.80\n",
       "Wednesday    114408.40\n",
       "Thursday     123528.50\n",
       "Friday       136073.90\n",
       "Saturday     123182.40\n",
       "Sunday        99203.50\n",
       "Name: revenue, dtype: float64"
      ]
     },
     "execution_count": 315,
     "metadata": {},
     "output_type": "execute_result"
    }
   ],
   "source": [
    "Sales_by_day"
   ]
  },
  {
   "cell_type": "code",
   "execution_count": 355,
   "id": "b4e1249d-6eb9-4df0-8684-9d9588ec3b61",
   "metadata": {},
   "outputs": [
    {
     "data": {
      "text/plain": [
       "<function matplotlib.pyplot.show(close=None, block=None)>"
      ]
     },
     "execution_count": 355,
     "metadata": {},
     "output_type": "execute_result"
    },
    {
     "data": {
      "image/png": "[encoded data removed]",
      "text/plain": [
       "<Figure size 640x480 with 1 Axes>"
      ]
     },
     "metadata": {},
     "output_type": "display_data"
    }
   ],
   "source": [
    "# to visualize the day with the most sales\n",
    "Sales_by_day.plot(kind ='bar')\n",
    "plt.savefig(\"task3b_plot.png\", dpi=300,bbox_inches='tight')\n",
    "plt.show"
   ]
  },
  {
   "cell_type": "code",
   "execution_count": 321,
   "id": "ede50a1b-02d4-4919-8d2d-96067ed7eaa2",
   "metadata": {},
   "outputs": [
    {
     "data": {
      "text/plain": [
       "'Friday'"
      ]
     },
     "execution_count": 321,
     "metadata": {},
     "output_type": "execute_result"
    }
   ],
   "source": [
    "#to get the day with most sales\n",
    "Day_with_most_sale = Sales_by_day.idxmax()\n",
    "\n",
    "Day_with_most_sale"
   ]
  },
  {
   "cell_type": "markdown",
   "id": "ca447221-4a38-43f9-918a-51177f4da9e1",
   "metadata": {},
   "source": [
    "# To get the best selling pizza"
   ]
  },
  {
   "cell_type": "code",
   "execution_count": 326,
   "id": "e706a065-b4dd-4d67-ac19-5e7628a1ac37",
   "metadata": {},
   "outputs": [
    {
     "data": {
      "text/plain": [
       "pizza_type_id\n",
       "bbq_ckn         2432\n",
       "big_meat        1914\n",
       "brie_carre       490\n",
       "calabrese        937\n",
       "cali_ckn        2370\n",
       "ckn_alfredo      987\n",
       "ckn_pesto        973\n",
       "classic_dlx     2453\n",
       "five_cheese     1409\n",
       "four_cheese     1902\n",
       "green_garden     997\n",
       "hawaiian        2422\n",
       "ital_cpcllo     1438\n",
       "ital_supr       1884\n",
       "ital_veggie      981\n",
       "mediterraneo     934\n",
       "mexicana        1484\n",
       "napolitana      1464\n",
       "pep_msh_pep     1359\n",
       "pepperoni       2418\n",
       "peppr_salami    1446\n",
       "prsc_argla      1457\n",
       "sicilian        1938\n",
       "soppressata      961\n",
       "southw_ckn      1917\n",
       "spicy_ital      1924\n",
       "spin_pesto       970\n",
       "spinach_fet     1446\n",
       "spinach_supr     950\n",
       "thai_ckn        2371\n",
       "the_greek       1420\n",
       "veggie_veg      1526\n",
       "Name: quantity, dtype: int64"
      ]
     },
     "execution_count": 326,
     "metadata": {},
     "output_type": "execute_result"
    }
   ],
   "source": [
    "#group pizza with quantity\n",
    "pizza_sales = full_data.groupby('pizza_type_id')['quantity'].sum()\n",
    "\n",
    "pizza_sales"
   ]
  },
  {
   "cell_type": "code",
   "execution_count": 335,
   "id": "0c50a642-1886-442a-81d6-48bd6d0656ef",
   "metadata": {},
   "outputs": [
    {
     "data": {
      "text/plain": [
       "pizza_type_id\n",
       "classic_dlx     2416\n",
       "bbq_ckn         2372\n",
       "hawaiian        2370\n",
       "pepperoni       2369\n",
       "thai_ckn        2315\n",
       "cali_ckn        2302\n",
       "sicilian        1887\n",
       "spicy_ital      1887\n",
       "southw_ckn      1885\n",
       "four_cheese     1850\n",
       "ital_supr       1849\n",
       "big_meat        1811\n",
       "veggie_veg      1510\n",
       "mexicana        1456\n",
       "napolitana      1451\n",
       "spinach_fet     1432\n",
       "prsc_argla      1428\n",
       "peppr_salami    1422\n",
       "ital_cpcllo     1414\n",
       "the_greek       1406\n",
       "five_cheese     1359\n",
       "pep_msh_pep     1342\n",
       "green_garden     987\n",
       "ckn_alfredo      980\n",
       "ital_veggie      975\n",
       "ckn_pesto        961\n",
       "spin_pesto       957\n",
       "soppressata      957\n",
       "spinach_supr     940\n",
       "calabrese        927\n",
       "mediterraneo     923\n",
       "brie_carre       480\n",
       "Name: count, dtype: int64"
      ]
     },
     "execution_count": 335,
     "metadata": {},
     "output_type": "execute_result"
    }
   ],
   "source": [
    "# another way to group\n",
    "pizza_type_id = full_data[\"pizza_type_id\"].value_counts()\n",
    "\n",
    "pizza_type_id"
   ]
  },
  {
   "cell_type": "code",
   "execution_count": 345,
   "id": "1a741617-c830-4d62-b543-d8c62a153e46",
   "metadata": {},
   "outputs": [
    {
     "data": {
      "text/plain": [
       "<function matplotlib.pyplot.show(close=None, block=None)>"
      ]
     },
     "execution_count": 345,
     "metadata": {},
     "output_type": "execute_result"
    },
    {
     "data": {
      "image/png": "[encoded data removed]",
      "text/plain": [
       "<Figure size 640x480 with 1 Axes>"
      ]
     },
     "metadata": {},
     "output_type": "display_data"
    }
   ],
   "source": [
    "#to visualize with barchat the sales of pizzas\n",
    "pizza_type_id.plot(kind ='bar')\n",
    "plt.savefig(\"task3_plot.png\", dpi=300,bbox_inches='tight')\n",
    "plt.show"
   ]
  },
  {
   "cell_type": "code",
   "execution_count": 349,
   "id": "9f79e6fb-3a66-4c10-83ec-b505a455a945",
   "metadata": {},
   "outputs": [
    {
     "data": {
      "text/plain": [
       "'classic_dlx'"
      ]
     },
     "execution_count": 349,
     "metadata": {},
     "output_type": "execute_result"
    }
   ],
   "source": [
    "#To identify the best selling pizza\n",
    "bestselling_pizza= pizza_sales.idxmax()\n",
    "\n",
    "bestselling_pizza"
   ]
  },
  {
   "cell_type": "markdown",
   "id": "7b049118-8255-4fca-a882-95545c48b3bf",
   "metadata": {},
   "source": [
    "## To get the sales per month"
   ]
  },
  {
   "cell_type": "code",
   "execution_count": 379,
   "id": "a47bbda5-2f43-44cb-a2bb-e042860cec21",
   "metadata": {},
   "outputs": [],
   "source": [
    "# To group revenue for each month\n",
    "Sales_by_month = full_data.groupby('month')['revenue'].sum().reset_index()"
   ]
  },
  {
   "cell_type": "code",
   "execution_count": 370,
   "id": "2a276313-58bc-4ae6-b1b5-958da4655b60",
   "metadata": {},
   "outputs": [
    {
     "data": {
      "text/html": [
       "<div>\n",
       "<style scoped>\n",
       "    .dataframe tbody tr th:only-of-type {\n",
       "        vertical-align: middle;\n",
       "    }\n",
       "\n",
       "    .dataframe tbody tr th {\n",
       "        vertical-align: top;\n",
       "    }\n",
       "\n",
       "    .dataframe thead th {\n",
       "        text-align: right;\n",
       "    }\n",
       "</style>\n",
       "<table border=\"1\" class=\"dataframe\">\n",
       "  <thead>\n",
       "    <tr style=\"text-align: right;\">\n",
       "      <th></th>\n",
       "      <th>month</th>\n",
       "      <th>revenue</th>\n",
       "    </tr>\n",
       "  </thead>\n",
       "  <tbody>\n",
       "    <tr>\n",
       "      <th>0</th>\n",
       "      <td>April</td>\n",
       "      <td>68736.80</td>\n",
       "    </tr>\n",
       "    <tr>\n",
       "      <th>1</th>\n",
       "      <td>August</td>\n",
       "      <td>68278.25</td>\n",
       "    </tr>\n",
       "    <tr>\n",
       "      <th>2</th>\n",
       "      <td>December</td>\n",
       "      <td>64701.15</td>\n",
       "    </tr>\n",
       "    <tr>\n",
       "      <th>3</th>\n",
       "      <td>February</td>\n",
       "      <td>65159.60</td>\n",
       "    </tr>\n",
       "    <tr>\n",
       "      <th>4</th>\n",
       "      <td>January</td>\n",
       "      <td>69793.30</td>\n",
       "    </tr>\n",
       "    <tr>\n",
       "      <th>5</th>\n",
       "      <td>July</td>\n",
       "      <td>72557.90</td>\n",
       "    </tr>\n",
       "    <tr>\n",
       "      <th>6</th>\n",
       "      <td>June</td>\n",
       "      <td>68230.20</td>\n",
       "    </tr>\n",
       "    <tr>\n",
       "      <th>7</th>\n",
       "      <td>March</td>\n",
       "      <td>70397.10</td>\n",
       "    </tr>\n",
       "    <tr>\n",
       "      <th>8</th>\n",
       "      <td>May</td>\n",
       "      <td>71402.75</td>\n",
       "    </tr>\n",
       "    <tr>\n",
       "      <th>9</th>\n",
       "      <td>November</td>\n",
       "      <td>70395.35</td>\n",
       "    </tr>\n",
       "    <tr>\n",
       "      <th>10</th>\n",
       "      <td>October</td>\n",
       "      <td>64027.60</td>\n",
       "    </tr>\n",
       "    <tr>\n",
       "      <th>11</th>\n",
       "      <td>September</td>\n",
       "      <td>64180.05</td>\n",
       "    </tr>\n",
       "  </tbody>\n",
       "</table>\n",
       "</div>"
      ],
      "text/plain": [
       "        month   revenue\n",
       "0       April  68736.80\n",
       "1      August  68278.25\n",
       "2    December  64701.15\n",
       "3    February  65159.60\n",
       "4     January  69793.30\n",
       "5        July  72557.90\n",
       "6        June  68230.20\n",
       "7       March  70397.10\n",
       "8         May  71402.75\n",
       "9    November  70395.35\n",
       "10    October  64027.60\n",
       "11  September  64180.05"
      ]
     },
     "execution_count": 370,
     "metadata": {},
     "output_type": "execute_result"
    }
   ],
   "source": [
    "Sales_by_month"
   ]
  },
  {
   "cell_type": "code",
   "execution_count": 374,
   "id": "4cffd7ed-0101-4fc3-a40d-33eb16a214dc",
   "metadata": {},
   "outputs": [
    {
     "name": "stdout",
     "output_type": "stream",
     "text": [
      "<class 'pandas.core.frame.DataFrame'>\n",
      "RangeIndex: 48620 entries, 0 to 48619\n",
      "Data columns (total 17 columns):\n",
      " #   Column            Non-Null Count  Dtype         \n",
      "---  ------            --------------  -----         \n",
      " 0   order_details_id  48620 non-null  int64         \n",
      " 1   order_id          48620 non-null  int64         \n",
      " 2   pizza_id          48620 non-null  object        \n",
      " 3   quantity          48620 non-null  int64         \n",
      " 4   pizza_type_id     48620 non-null  object        \n",
      " 5   size              48620 non-null  object        \n",
      " 6   price             48620 non-null  float64       \n",
      " 7   date              48620 non-null  datetime64[ns]\n",
      " 8   time              48620 non-null  datetime64[ns]\n",
      " 9   name              48620 non-null  object        \n",
      " 10  category          48620 non-null  object        \n",
      " 11  ingredients       48620 non-null  object        \n",
      " 12  data              48620 non-null  datetime64[ns]\n",
      " 13  day               48620 non-null  object        \n",
      " 14  month             48620 non-null  object        \n",
      " 15  revenue           48620 non-null  float64       \n",
      " 16  hour              48620 non-null  int32         \n",
      "dtypes: datetime64[ns](3), float64(2), int32(1), int64(3), object(8)\n",
      "memory usage: 6.1+ MB\n"
     ]
    }
   ],
   "source": [
    "full_data.info()"
   ]
  },
  {
   "cell_type": "code",
   "execution_count": 376,
   "id": "46a16b52-7e70-48f7-b8d5-be7200c59471",
   "metadata": {},
   "outputs": [
    {
     "data": {
      "image/png": "[encoded data removed]",
      "text/plain": [
       "<Figure size 1000x500 with 1 Axes>"
      ]
     },
     "metadata": {},
     "output_type": "display_data"
    }
   ],
   "source": [
    "# To visualize the trend in sales for each month\n",
    "plt.figure(figsize=(10, 5))\n",
    "plt.plot(Sales_by_month['month'], Sales_by_month['revenue'], marker='o')\n",
    "plt.title('Monthly Sales Trend')\n",
    "plt.xlabel('Month')\n",
    "plt.ylabel('Total Revenue')\n",
    "plt.grid(True)\n",
    "plt.tight_layout()\n",
    "plt.show()"
   ]
  },
  {
   "cell_type": "code",
   "execution_count": 381,
   "id": "c7b5bae4-85b1-4dd1-8436-c1fde8bda0f8",
   "metadata": {},
   "outputs": [],
   "source": [
    "# the trend shows that much sales is made in July and the lowest sales is in october"
   ]
  },
  {
   "cell_type": "code",
   "execution_count": null,
   "id": "b1b488e8-ffe9-4ffe-a77b-98c67ec0e0b4",
   "metadata": {},
   "outputs": [],
   "source": [
    "pizza"
   ]
  },
  {
   "cell_type": "code",
   "execution_count": 397,
   "id": "88633922-3604-4978-a79c-35f7f78b84c3",
   "metadata": {},
   "outputs": [
    {
     "data": {
      "text/plain": [
       "'brie_carre'"
      ]
     },
     "execution_count": 397,
     "metadata": {},
     "output_type": "execute_result"
    }
   ],
   "source": [
    "poor_selling_pizza= pizza_sales.idxmin()\n",
    "\n",
    "poor_selling_pizza"
   ]
  },
  {
   "cell_type": "code",
   "execution_count": 413,
   "id": "afede866-dab8-4191-a5c8-f2e91e51e26b",
   "metadata": {},
   "outputs": [
    {
     "data": {
      "text/plain": [
       "pizza_type_id\n",
       "bbq_ckn         2432\n",
       "big_meat        1914\n",
       "brie_carre       490\n",
       "calabrese        937\n",
       "cali_ckn        2370\n",
       "ckn_alfredo      987\n",
       "ckn_pesto        973\n",
       "classic_dlx     2453\n",
       "five_cheese     1409\n",
       "four_cheese     1902\n",
       "green_garden     997\n",
       "hawaiian        2422\n",
       "ital_cpcllo     1438\n",
       "ital_supr       1884\n",
       "ital_veggie      981\n",
       "mediterraneo     934\n",
       "mexicana        1484\n",
       "napolitana      1464\n",
       "pep_msh_pep     1359\n",
       "pepperoni       2418\n",
       "peppr_salami    1446\n",
       "prsc_argla      1457\n",
       "sicilian        1938\n",
       "soppressata      961\n",
       "southw_ckn      1917\n",
       "spicy_ital      1924\n",
       "spin_pesto       970\n",
       "spinach_fet     1446\n",
       "spinach_supr     950\n",
       "thai_ckn        2371\n",
       "the_greek       1420\n",
       "veggie_veg      1526\n",
       "Name: quantity, dtype: int64"
      ]
     },
     "execution_count": 413,
     "metadata": {},
     "output_type": "execute_result"
    }
   ],
   "source": [
    "pizza_sales_performance = full_data.groupby('pizza_type_id')['quantity'].sum()\n",
    "\n",
    "pizza_sales_performance"
   ]
  },
  {
   "cell_type": "code",
   "execution_count": 431,
   "id": "eac301e9-adaf-4134-8ba1-e2750c5dab87",
   "metadata": {},
   "outputs": [
    {
     "data": {
      "text/plain": [
       "quantity\n",
       "1    47693\n",
       "2      903\n",
       "3       21\n",
       "4        3\n",
       "Name: count, dtype: int64"
      ]
     },
     "execution_count": 431,
     "metadata": {},
     "output_type": "execute_result"
    }
   ],
   "source": [
    "quantity = full_data[\"quantity\"].value_counts()\n",
    "\n",
    "quantity"
   ]
  },
  {
   "cell_type": "code",
   "execution_count": 437,
   "id": "436a3819-57fd-4c1d-a4b6-4d11b5d795f4",
   "metadata": {},
   "outputs": [
    {
     "ename": "KeyError",
     "evalue": "'quantity'",
     "output_type": "error",
     "traceback": [
      "\u001b[1;31m---------------------------------------------------------------------------\u001b[0m",
      "\u001b[1;31mKeyError\u001b[0m                                  Traceback (most recent call last)",
      "File \u001b[1;32mC:\\ProgramData\\anaconda3\\Lib\\site-packages\\pandas\\core\\indexes\\base.py:3805\u001b[0m, in \u001b[0;36mIndex.get_loc\u001b[1;34m(self, key)\u001b[0m\n\u001b[0;32m   3804\u001b[0m \u001b[38;5;28;01mtry\u001b[39;00m:\n\u001b[1;32m-> 3805\u001b[0m     \u001b[38;5;28;01mreturn\u001b[39;00m \u001b[38;5;28mself\u001b[39m\u001b[38;5;241m.\u001b[39m_engine\u001b[38;5;241m.\u001b[39mget_loc(casted_key)\n\u001b[0;32m   3806\u001b[0m \u001b[38;5;28;01mexcept\u001b[39;00m \u001b[38;5;167;01mKeyError\u001b[39;00m \u001b[38;5;28;01mas\u001b[39;00m err:\n",
      "File \u001b[1;32mindex.pyx:167\u001b[0m, in \u001b[0;36mpandas._libs.index.IndexEngine.get_loc\u001b[1;34m()\u001b[0m\n",
      "File \u001b[1;32mindex.pyx:196\u001b[0m, in \u001b[0;36mpandas._libs.index.IndexEngine.get_loc\u001b[1;34m()\u001b[0m\n",
      "File \u001b[1;32mpandas\\\\_libs\\\\hashtable_class_helper.pxi:7081\u001b[0m, in \u001b[0;36mpandas._libs.hashtable.PyObjectHashTable.get_item\u001b[1;34m()\u001b[0m\n",
      "File \u001b[1;32mpandas\\\\_libs\\\\hashtable_class_helper.pxi:7089\u001b[0m, in \u001b[0;36mpandas._libs.hashtable.PyObjectHashTable.get_item\u001b[1;34m()\u001b[0m\n",
      "\u001b[1;31mKeyError\u001b[0m: 'quantity'",
      "\nThe above exception was the direct cause of the following exception:\n",
      "\u001b[1;31mKeyError\u001b[0m                                  Traceback (most recent call last)",
      "Cell \u001b[1;32mIn[437], line 1\u001b[0m\n\u001b[1;32m----> 1\u001b[0m underperforming \u001b[38;5;241m=\u001b[39m pizza_sales_performance[pizza_sales_performance[\u001b[38;5;124m\"\u001b[39m\u001b[38;5;124mquantity\u001b[39m\u001b[38;5;124m\"\u001b[39m] \u001b[38;5;241m<\u001b[39m \u001b[38;5;241m1000\u001b[39m]\n\u001b[0;32m      3\u001b[0m underperforming\n",
      "File \u001b[1;32mC:\\ProgramData\\anaconda3\\Lib\\site-packages\\pandas\\core\\series.py:1121\u001b[0m, in \u001b[0;36mSeries.__getitem__\u001b[1;34m(self, key)\u001b[0m\n\u001b[0;32m   1118\u001b[0m     \u001b[38;5;28;01mreturn\u001b[39;00m \u001b[38;5;28mself\u001b[39m\u001b[38;5;241m.\u001b[39m_values[key]\n\u001b[0;32m   1120\u001b[0m \u001b[38;5;28;01melif\u001b[39;00m key_is_scalar:\n\u001b[1;32m-> 1121\u001b[0m     \u001b[38;5;28;01mreturn\u001b[39;00m \u001b[38;5;28mself\u001b[39m\u001b[38;5;241m.\u001b[39m_get_value(key)\n\u001b[0;32m   1123\u001b[0m \u001b[38;5;66;03m# Convert generator to list before going through hashable part\u001b[39;00m\n\u001b[0;32m   1124\u001b[0m \u001b[38;5;66;03m# (We will iterate through the generator there to check for slices)\u001b[39;00m\n\u001b[0;32m   1125\u001b[0m \u001b[38;5;28;01mif\u001b[39;00m is_iterator(key):\n",
      "File \u001b[1;32mC:\\ProgramData\\anaconda3\\Lib\\site-packages\\pandas\\core\\series.py:1237\u001b[0m, in \u001b[0;36mSeries._get_value\u001b[1;34m(self, label, takeable)\u001b[0m\n\u001b[0;32m   1234\u001b[0m     \u001b[38;5;28;01mreturn\u001b[39;00m \u001b[38;5;28mself\u001b[39m\u001b[38;5;241m.\u001b[39m_values[label]\n\u001b[0;32m   1236\u001b[0m \u001b[38;5;66;03m# Similar to Index.get_value, but we do not fall back to positional\u001b[39;00m\n\u001b[1;32m-> 1237\u001b[0m loc \u001b[38;5;241m=\u001b[39m \u001b[38;5;28mself\u001b[39m\u001b[38;5;241m.\u001b[39mindex\u001b[38;5;241m.\u001b[39mget_loc(label)\n\u001b[0;32m   1239\u001b[0m \u001b[38;5;28;01mif\u001b[39;00m is_integer(loc):\n\u001b[0;32m   1240\u001b[0m     \u001b[38;5;28;01mreturn\u001b[39;00m \u001b[38;5;28mself\u001b[39m\u001b[38;5;241m.\u001b[39m_values[loc]\n",
      "File \u001b[1;32mC:\\ProgramData\\anaconda3\\Lib\\site-packages\\pandas\\core\\indexes\\base.py:3812\u001b[0m, in \u001b[0;36mIndex.get_loc\u001b[1;34m(self, key)\u001b[0m\n\u001b[0;32m   3807\u001b[0m     \u001b[38;5;28;01mif\u001b[39;00m \u001b[38;5;28misinstance\u001b[39m(casted_key, \u001b[38;5;28mslice\u001b[39m) \u001b[38;5;129;01mor\u001b[39;00m (\n\u001b[0;32m   3808\u001b[0m         \u001b[38;5;28misinstance\u001b[39m(casted_key, abc\u001b[38;5;241m.\u001b[39mIterable)\n\u001b[0;32m   3809\u001b[0m         \u001b[38;5;129;01mand\u001b[39;00m \u001b[38;5;28many\u001b[39m(\u001b[38;5;28misinstance\u001b[39m(x, \u001b[38;5;28mslice\u001b[39m) \u001b[38;5;28;01mfor\u001b[39;00m x \u001b[38;5;129;01min\u001b[39;00m casted_key)\n\u001b[0;32m   3810\u001b[0m     ):\n\u001b[0;32m   3811\u001b[0m         \u001b[38;5;28;01mraise\u001b[39;00m InvalidIndexError(key)\n\u001b[1;32m-> 3812\u001b[0m     \u001b[38;5;28;01mraise\u001b[39;00m \u001b[38;5;167;01mKeyError\u001b[39;00m(key) \u001b[38;5;28;01mfrom\u001b[39;00m \u001b[38;5;21;01merr\u001b[39;00m\n\u001b[0;32m   3813\u001b[0m \u001b[38;5;28;01mexcept\u001b[39;00m \u001b[38;5;167;01mTypeError\u001b[39;00m:\n\u001b[0;32m   3814\u001b[0m     \u001b[38;5;66;03m# If we have a listlike key, _check_indexing_error will raise\u001b[39;00m\n\u001b[0;32m   3815\u001b[0m     \u001b[38;5;66;03m#  InvalidIndexError. Otherwise we fall through and re-raise\u001b[39;00m\n\u001b[0;32m   3816\u001b[0m     \u001b[38;5;66;03m#  the TypeError.\u001b[39;00m\n\u001b[0;32m   3817\u001b[0m     \u001b[38;5;28mself\u001b[39m\u001b[38;5;241m.\u001b[39m_check_indexing_error(key)\n",
      "\u001b[1;31mKeyError\u001b[0m: 'quantity'"
     ]
    }
   ],
   "source": [
    "underperforming = pizza_sales_performance[pizza_sales_performance[\"quantity\"] < 1000]\n",
    "\n",
    "underperforming"
   ]
  },
  {
   "cell_type": "code",
   "execution_count": null,
   "id": "0502bcd3-79ef-4470-be20-cbef10a678e4",
   "metadata": {},
   "outputs": [],
   "source": []
  }
 ],
 "metadata": {
  "kernelspec": {
   "display_name": "Python [conda env:base] *",
   "language": "python",
   "name": "conda-base-py"
  },
  "language_info": {
   "codemirror_mode": {
    "name": "ipython",
    "version": 3
   },
   "file_extension": ".py",
   "mimetype": "text/x-python",
   "name": "python",
   "nbconvert_exporter": "python",
   "pygments_lexer": "ipython3",
   "version": "3.12.7"
  }
 },
 "nbformat": 4,
 "nbformat_minor": 5
}
